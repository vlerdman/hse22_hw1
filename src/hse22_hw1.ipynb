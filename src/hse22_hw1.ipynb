{
  "nbformat": 4,
  "nbformat_minor": 0,
  "metadata": {
    "colab": {
      "provenance": [],
      "collapsed_sections": []
    },
    "kernelspec": {
      "name": "python3",
      "display_name": "Python 3"
    },
    "language_info": {
      "name": "python"
    }
  },
  "cells": [
    {
      "cell_type": "code",
      "execution_count": 27,
      "metadata": {
        "id": "GXRE80dxFzOX"
      },
      "outputs": [],
      "source": [
        "import re\n",
        "\n",
        "def printInfo(text, num, total_len, max_len, i):\n",
        "    print(f'Анализ {text}\\n\\\n",
        "Общее количество: {num},\\n\\\n",
        "Общая длина: {total_len},\\n\\\n",
        "Длина наибольшего: {max_len},\\n\\\n",
        "N50: {i}\\n')\n",
        "\n",
        "def process(f, text, output = True):\n",
        "    lengths = []\n",
        "    total_len = num = max_len = length = score = 0\n",
        "    max_seq = cur_seq = ''\n",
        "    for line in f:\n",
        "        if line[0] == '>':\n",
        "            if num != 0:\n",
        "                lengths.append(length)\n",
        "            num += 1\n",
        "            if length >= max_len:\n",
        "                max_len = length\n",
        "                max_seq = cur_seq\n",
        "            cur_seq = ''\n",
        "            length = 0\n",
        "        else:\n",
        "            cur_seq += line.strip()\n",
        "            length += len(line.strip())\n",
        "            total_len += len(line.strip())\n",
        "    if length >= max_len:\n",
        "        max_len = length\n",
        "        max_seq = cur_seq\n",
        "\n",
        "\n",
        "    lengths.sort(reverse = True) \n",
        "    for i in lengths:\n",
        "        score += i\n",
        "        if score >= total_len / 2:\n",
        "            if output == True:\n",
        "                printInfo(text, num, total_len, max_len, i)\n",
        "            break\n",
        "    return max_seq"
      ]
    },
    {
      "cell_type": "code",
      "source": [
        "max_cont = process(open('Poil_contig.fa', 'r'), 'Контигов')"
      ],
      "metadata": {
        "colab": {
          "base_uri": "https://localhost:8080/"
        },
        "id": "GB0mCkMtKBN9",
        "outputId": "25c74f13-e69b-48c6-abef-f2ee277ee104"
      },
      "execution_count": 28,
      "outputs": [
        {
          "output_type": "stream",
          "name": "stdout",
          "text": [
            "Анализ Контигов\n",
            "Общее количество: 617,\n",
            "Общая длина: 3925705,\n",
            "Длина наибольшего: 179307,\n",
            "N50: 44333\n",
            "\n"
          ]
        }
      ]
    },
    {
      "cell_type": "code",
      "source": [
        "max_scaf = process(open('Poil_scaffold.fa', 'r'), 'Скаффолдов')"
      ],
      "metadata": {
        "colab": {
          "base_uri": "https://localhost:8080/"
        },
        "id": "523Nk7qCKETl",
        "outputId": "59c2d330-a1f5-4c2c-cf06-6dbc888a5357"
      },
      "execution_count": 29,
      "outputs": [
        {
          "output_type": "stream",
          "name": "stdout",
          "text": [
            "Анализ Скаффолдов\n",
            "Общее количество: 71,\n",
            "Общая длина: 3877020,\n",
            "Длина наибольшего: 3832429,\n",
            "N50: 3832429\n",
            "\n"
          ]
        }
      ]
    },
    {
      "cell_type": "code",
      "source": [
        "f = open(\"longest.fasta\", \"w\")\n",
        "f.write(max_scaf)\n",
        "f.close()"
      ],
      "metadata": {
        "id": "WUee3OSXUdUp"
      },
      "execution_count": 30,
      "outputs": []
    },
    {
      "cell_type": "code",
      "source": [
        "print(f'Общая длина гэпов: {max_scaf.count(\"N\")}')\n",
        "max_scaf = re.sub(r'N{2,}', 'N', max_scaf)\n",
        "print(f'Число гэпов: {max_scaf.count(\"N\")}')"
      ],
      "metadata": {
        "colab": {
          "base_uri": "https://localhost:8080/"
        },
        "id": "YhiIkE-nKIrG",
        "outputId": "7060e041-469f-4fb8-e6e6-6a16263a149e"
      },
      "execution_count": 31,
      "outputs": [
        {
          "output_type": "stream",
          "name": "stdout",
          "text": [
            "Общая длина гэпов: 7120\n",
            "Число гэпов: 66\n"
          ]
        }
      ]
    },
    {
      "cell_type": "code",
      "source": [
        "max_scaf = process(open('Poil_gapClosed.fa', 'r'), 'Скаффолдов', False)"
      ],
      "metadata": {
        "id": "I84IK41sKLI9"
      },
      "execution_count": 32,
      "outputs": []
    },
    {
      "cell_type": "code",
      "source": [
        "print(f'Общая длина гэпов для обрезанных чтений: {max_scaf.count(\"N\")}')\n",
        "max_scaf = re.sub(r'N{2,}', 'N', max_scaf)\n",
        "print(f'Число гэпов для обрезанных чтений: {max_scaf.count(\"N\")}')"
      ],
      "metadata": {
        "id": "Vj7dSDzWKMhw",
        "outputId": "d9f3c815-f219-4124-f3b5-2cbc578f70b3",
        "colab": {
          "base_uri": "https://localhost:8080/"
        }
      },
      "execution_count": 33,
      "outputs": [
        {
          "output_type": "stream",
          "name": "stdout",
          "text": [
            "Общая длина гэпов для обрезанных чтений: 2096\n",
            "Число гэпов для обрезанных чтений: 9\n"
          ]
        }
      ]
    }
  ]
}